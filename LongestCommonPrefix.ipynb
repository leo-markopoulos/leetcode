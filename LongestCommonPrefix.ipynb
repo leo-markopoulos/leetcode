{
  "nbformat": 4,
  "nbformat_minor": 0,
  "metadata": {
    "colab": {
      "provenance": []
    },
    "kernelspec": {
      "name": "python3",
      "display_name": "Python 3"
    },
    "language_info": {
      "name": "python"
    }
  },
  "cells": [
    {
      "cell_type": "code",
      "execution_count": null,
      "metadata": {
        "id": "Pca5eO4uRwnV"
      },
      "outputs": [],
      "source": [
        "def longestCommonPrefix(strs):\n",
        "  if len(strs) == 1:\n",
        "    return(strs[0])\n",
        "\n",
        "  for i in range(len(strs)):\n",
        "    if len(strs[i]) == 0:\n",
        "      return ''\n",
        "\n",
        "  for i in range(len(strs[0])):\n",
        "    for j in range(len(strs)):\n",
        "      if i >= len(strs[j]):\n",
        "        return strs[0][0:i]\n",
        "      if strs[j][i] != strs[0][i]:\n",
        "        return strs[0][0:i]\n",
        "  return(strs[0])"
      ]
    }
  ]
}